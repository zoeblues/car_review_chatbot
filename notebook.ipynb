{
 "cells": [
  {
   "cell_type": "markdown",
   "id": "764a705a",
   "metadata": {},
   "source": [
    "# Below, I present a simple chatbot app that addresses diverse inquiries using LLMs. It runs fast locally thanks to the use of the pre-trained llms from hugging face.\n",
    "\n",
    "\n",
    "1. Classify car reviews\n",
    "2. Translate a car review from english to spanish\n",
    "3. Ask a question about a car review\n",
    "4. Summarize and analyze a car review"
   ]
  },
  {
   "cell_type": "code",
   "execution_count": 2,
   "id": "163101aa",
   "metadata": {
    "jupyter": {
     "is_executing": true
    }
   },
   "outputs": [
    {
     "name": "stdout",
     "output_type": "stream",
     "text": [
      "Index(['Review', 'Class'], dtype='object')\n"
     ]
    }
   ],
   "source": [
    "# View data and its columns, gather insights\n",
    "import pandas as pd\n",
    "data = pd.read_csv('car_reviews.csv', sep=';')\n",
    "print(data.columns)"
   ]
  },
  {
   "cell_type": "markdown",
   "id": "c628a433",
   "metadata": {},
   "source": [
    "## 1. Sentiment analysis with classification LLM"
   ]
  },
  {
   "cell_type": "code",
   "execution_count": 3,
   "id": "ede7ef44",
   "metadata": {},
   "outputs": [
    {
     "name": "stderr",
     "output_type": "stream",
     "text": [
      "C:\\Users\\Zuzia\\AppData\\Local\\Packages\\PythonSoftwareFoundation.Python.3.12_qbz5n2kfra8p0\\LocalCache\\local-packages\\Python312\\site-packages\\tqdm\\auto.py:21: TqdmWarning: IProgress not found. Please update jupyter and ipywidgets. See https://ipywidgets.readthedocs.io/en/stable/user_install.html\n",
      "  from .autonotebook import tqdm as notebook_tqdm\n",
      "Xet Storage is enabled for this repo, but the 'hf_xet' package is not installed. Falling back to regular HTTP download. For better performance, install the package with: `pip install huggingface_hub[hf_xet]` or `pip install hf_xet`\n",
      "Device set to use cpu\n"
     ]
    },
    {
     "name": "stdout",
     "output_type": "stream",
     "text": [
      "[{'label': 'POSITIVE', 'score': 0.9293979406356812}, {'label': 'POSITIVE', 'score': 0.8654260039329529}, {'label': 'POSITIVE', 'score': 0.9994640946388245}, {'label': 'NEGATIVE', 'score': 0.9935314059257507}, {'label': 'POSITIVE', 'score': 0.9986565113067627}]\n",
      "Predictions (1 is positive, 0 is negative): [1, 1, 1, 0, 1]\n",
      "Accuracy: 0.80\n",
      "F1 Score: 0.86\n"
     ]
    }
   ],
   "source": [
    "# Loading the libraries \n",
    "import pandas as pd\n",
    "from transformers import logging, pipeline\n",
    "from sklearn.metrics import accuracy_score, f1_score\n",
    "\n",
    "logging.set_verbosity(logging.WARNING)\n",
    "\n",
    "# Loading sentiment analysis pipeline from hugging face\n",
    "model_name_sentiment = \"distilbert-base-uncased-finetuned-sst-2-english\"\n",
    "sentiment_pipeline = pipeline(\"sentiment-analysis\", model=model_name_sentiment)\n",
    "data = pd.read_csv('car_reviews.csv', sep=';')\n",
    "\n",
    "# Predicting sentiment labels for the reviews\n",
    "predicted_labels = sentiment_pipeline(data['Review'].tolist())\n",
    "print(predicted_labels)\n",
    "\n",
    "# Converting output to {0,1} format\n",
    "predictions = [1 if r['label'].upper() == 'POSITIVE' else 0 for r in predicted_labels]\n",
    "true_labels = [1 if str(label).upper() == 'POSITIVE' else 0 for label in data['Class']]\n",
    "\n",
    "# Evaluating the classification accuracy and F1 score of predictions\n",
    "accuracy_result = accuracy_score(true_labels, predictions)\n",
    "f1_result = f1_score(true_labels, predictions, pos_label=1)\n",
    "\n",
    "print(f\"Predictions (1 is positive, 0 is negative): {predictions}\")\n",
    "print(f\"Accuracy: {accuracy_result:.2f}\")\n",
    "print(f\"F1 Score: {f1_result:.2f}\")\n"
   ]
  },
  {
   "cell_type": "markdown",
   "id": "8fa01865",
   "metadata": {},
   "source": [
    "## 2. Translation LLM \n",
    "Extract and pass the first two sentences of the first review in the dataset to an English-to-Spanish translation LLM. Calculate the BLEU score to assess translation quality, using the content in reference_translations.txt as references."
   ]
  },
  {
   "cell_type": "code",
   "execution_count": null,
   "id": "2e5b29e9",
   "metadata": {},
   "outputs": [
    {
     "name": "stdout",
     "output_type": "stream",
     "text": [
      "Defaulting to user installation because normal site-packages is not writeable\n",
      "Collecting evaluate\n",
      "  Using cached evaluate-0.4.5-py3-none-any.whl.metadata (9.5 kB)\n",
      "Collecting datasets>=2.0.0 (from evaluate)\n",
      "  Downloading datasets-4.1.0-py3-none-any.whl.metadata (18 kB)\n",
      "Requirement already satisfied: numpy>=1.17 in c:\\users\\zuzia\\appdata\\local\\packages\\pythonsoftwarefoundation.python.3.12_qbz5n2kfra8p0\\localcache\\local-packages\\python312\\site-packages (from evaluate) (1.26.4)\n",
      "Collecting dill (from evaluate)\n",
      "  Downloading dill-0.4.0-py3-none-any.whl.metadata (10 kB)\n",
      "Requirement already satisfied: pandas in c:\\users\\zuzia\\appdata\\local\\packages\\pythonsoftwarefoundation.python.3.12_qbz5n2kfra8p0\\localcache\\local-packages\\python312\\site-packages (from evaluate) (2.2.1)\n",
      "Requirement already satisfied: requests>=2.19.0 in c:\\users\\zuzia\\appdata\\local\\packages\\pythonsoftwarefoundation.python.3.12_qbz5n2kfra8p0\\localcache\\local-packages\\python312\\site-packages (from evaluate) (2.32.3)\n",
      "Requirement already satisfied: tqdm>=4.62.1 in c:\\users\\zuzia\\appdata\\local\\packages\\pythonsoftwarefoundation.python.3.12_qbz5n2kfra8p0\\localcache\\local-packages\\python312\\site-packages (from evaluate) (4.67.1)\n",
      "Collecting xxhash (from evaluate)\n",
      "  Using cached xxhash-3.5.0-cp312-cp312-win_amd64.whl.metadata (13 kB)\n",
      "Collecting multiprocess (from evaluate)\n",
      "  Downloading multiprocess-0.70.18-py312-none-any.whl.metadata (7.5 kB)\n",
      "Requirement already satisfied: fsspec>=2021.05.0 in c:\\users\\zuzia\\appdata\\local\\packages\\pythonsoftwarefoundation.python.3.12_qbz5n2kfra8p0\\localcache\\local-packages\\python312\\site-packages (from fsspec[http]>=2021.05.0->evaluate) (2025.9.0)\n",
      "Requirement already satisfied: huggingface-hub>=0.7.0 in c:\\users\\zuzia\\appdata\\local\\packages\\pythonsoftwarefoundation.python.3.12_qbz5n2kfra8p0\\localcache\\local-packages\\python312\\site-packages (from evaluate) (0.34.5)\n",
      "Requirement already satisfied: packaging in c:\\users\\zuzia\\appdata\\local\\packages\\pythonsoftwarefoundation.python.3.12_qbz5n2kfra8p0\\localcache\\local-packages\\python312\\site-packages (from evaluate) (23.2)\n",
      "Requirement already satisfied: filelock in c:\\users\\zuzia\\appdata\\local\\packages\\pythonsoftwarefoundation.python.3.12_qbz5n2kfra8p0\\localcache\\local-packages\\python312\\site-packages (from datasets>=2.0.0->evaluate) (3.19.1)\n",
      "Collecting pyarrow>=21.0.0 (from datasets>=2.0.0->evaluate)\n",
      "  Using cached pyarrow-21.0.0-cp312-cp312-win_amd64.whl.metadata (3.4 kB)\n",
      "Collecting multiprocess (from evaluate)\n",
      "  Using cached multiprocess-0.70.16-py312-none-any.whl.metadata (7.2 kB)\n",
      "Requirement already satisfied: pyyaml>=5.1 in c:\\users\\zuzia\\appdata\\local\\packages\\pythonsoftwarefoundation.python.3.12_qbz5n2kfra8p0\\localcache\\local-packages\\python312\\site-packages (from datasets>=2.0.0->evaluate) (6.0.2)\n",
      "Collecting aiohttp!=4.0.0a0,!=4.0.0a1 (from fsspec[http]>=2021.05.0->evaluate)\n",
      "  Using cached aiohttp-3.12.15-cp312-cp312-win_amd64.whl.metadata (7.9 kB)\n",
      "Requirement already satisfied: typing-extensions>=3.7.4.3 in c:\\users\\zuzia\\appdata\\local\\packages\\pythonsoftwarefoundation.python.3.12_qbz5n2kfra8p0\\localcache\\local-packages\\python312\\site-packages (from huggingface-hub>=0.7.0->evaluate) (4.12.2)\n",
      "Requirement already satisfied: charset-normalizer<4,>=2 in c:\\users\\zuzia\\appdata\\local\\packages\\pythonsoftwarefoundation.python.3.12_qbz5n2kfra8p0\\localcache\\local-packages\\python312\\site-packages (from requests>=2.19.0->evaluate) (3.4.0)\n",
      "Requirement already satisfied: idna<4,>=2.5 in c:\\users\\zuzia\\appdata\\local\\packages\\pythonsoftwarefoundation.python.3.12_qbz5n2kfra8p0\\localcache\\local-packages\\python312\\site-packages (from requests>=2.19.0->evaluate) (3.10)\n",
      "Requirement already satisfied: urllib3<3,>=1.21.1 in c:\\users\\zuzia\\appdata\\local\\packages\\pythonsoftwarefoundation.python.3.12_qbz5n2kfra8p0\\localcache\\local-packages\\python312\\site-packages (from requests>=2.19.0->evaluate) (2.2.3)\n",
      "Requirement already satisfied: certifi>=2017.4.17 in c:\\users\\zuzia\\appdata\\local\\packages\\pythonsoftwarefoundation.python.3.12_qbz5n2kfra8p0\\localcache\\local-packages\\python312\\site-packages (from requests>=2.19.0->evaluate) (2024.12.14)\n",
      "Requirement already satisfied: colorama in c:\\users\\zuzia\\appdata\\local\\packages\\pythonsoftwarefoundation.python.3.12_qbz5n2kfra8p0\\localcache\\local-packages\\python312\\site-packages (from tqdm>=4.62.1->evaluate) (0.4.6)\n",
      "Requirement already satisfied: python-dateutil>=2.8.2 in c:\\users\\zuzia\\appdata\\local\\packages\\pythonsoftwarefoundation.python.3.12_qbz5n2kfra8p0\\localcache\\local-packages\\python312\\site-packages (from pandas->evaluate) (2.9.0)\n",
      "Requirement already satisfied: pytz>=2020.1 in c:\\users\\zuzia\\appdata\\local\\packages\\pythonsoftwarefoundation.python.3.12_qbz5n2kfra8p0\\localcache\\local-packages\\python312\\site-packages (from pandas->evaluate) (2024.1)\n",
      "Requirement already satisfied: tzdata>=2022.7 in c:\\users\\zuzia\\appdata\\local\\packages\\pythonsoftwarefoundation.python.3.12_qbz5n2kfra8p0\\localcache\\local-packages\\python312\\site-packages (from pandas->evaluate) (2024.1)\n",
      "Collecting aiohappyeyeballs>=2.5.0 (from aiohttp!=4.0.0a0,!=4.0.0a1->fsspec[http]>=2021.05.0->evaluate)\n",
      "  Using cached aiohappyeyeballs-2.6.1-py3-none-any.whl.metadata (5.9 kB)\n",
      "Collecting aiosignal>=1.4.0 (from aiohttp!=4.0.0a0,!=4.0.0a1->fsspec[http]>=2021.05.0->evaluate)\n",
      "  Using cached aiosignal-1.4.0-py3-none-any.whl.metadata (3.7 kB)\n",
      "Requirement already satisfied: attrs>=17.3.0 in c:\\users\\zuzia\\appdata\\local\\packages\\pythonsoftwarefoundation.python.3.12_qbz5n2kfra8p0\\localcache\\local-packages\\python312\\site-packages (from aiohttp!=4.0.0a0,!=4.0.0a1->fsspec[http]>=2021.05.0->evaluate) (24.3.0)\n",
      "Collecting frozenlist>=1.1.1 (from aiohttp!=4.0.0a0,!=4.0.0a1->fsspec[http]>=2021.05.0->evaluate)\n",
      "  Using cached frozenlist-1.7.0-cp312-cp312-win_amd64.whl.metadata (19 kB)\n",
      "Collecting multidict<7.0,>=4.5 (from aiohttp!=4.0.0a0,!=4.0.0a1->fsspec[http]>=2021.05.0->evaluate)\n",
      "  Using cached multidict-6.6.4-cp312-cp312-win_amd64.whl.metadata (5.4 kB)\n",
      "Collecting propcache>=0.2.0 (from aiohttp!=4.0.0a0,!=4.0.0a1->fsspec[http]>=2021.05.0->evaluate)\n",
      "  Using cached propcache-0.3.2-cp312-cp312-win_amd64.whl.metadata (12 kB)\n",
      "Collecting yarl<2.0,>=1.17.0 (from aiohttp!=4.0.0a0,!=4.0.0a1->fsspec[http]>=2021.05.0->evaluate)\n",
      "  Using cached yarl-1.20.1-cp312-cp312-win_amd64.whl.metadata (76 kB)\n",
      "Requirement already satisfied: six>=1.5 in c:\\users\\zuzia\\appdata\\local\\packages\\pythonsoftwarefoundation.python.3.12_qbz5n2kfra8p0\\localcache\\local-packages\\python312\\site-packages (from python-dateutil>=2.8.2->pandas->evaluate) (1.16.0)\n",
      "Using cached evaluate-0.4.5-py3-none-any.whl (84 kB)\n",
      "Downloading datasets-4.1.0-py3-none-any.whl (503 kB)\n",
      "Downloading dill-0.4.0-py3-none-any.whl (119 kB)\n",
      "Using cached multiprocess-0.70.16-py312-none-any.whl (146 kB)\n",
      "Using cached xxhash-3.5.0-cp312-cp312-win_amd64.whl (30 kB)\n",
      "Using cached aiohttp-3.12.15-cp312-cp312-win_amd64.whl (450 kB)\n",
      "Using cached pyarrow-21.0.0-cp312-cp312-win_amd64.whl (26.2 MB)\n",
      "Using cached aiohappyeyeballs-2.6.1-py3-none-any.whl (15 kB)\n",
      "Using cached aiosignal-1.4.0-py3-none-any.whl (7.5 kB)\n",
      "Using cached frozenlist-1.7.0-cp312-cp312-win_amd64.whl (43 kB)\n",
      "Using cached multidict-6.6.4-cp312-cp312-win_amd64.whl (46 kB)\n",
      "Using cached propcache-0.3.2-cp312-cp312-win_amd64.whl (41 kB)\n",
      "Using cached yarl-1.20.1-cp312-cp312-win_amd64.whl (86 kB)\n",
      "Installing collected packages: xxhash, pyarrow, propcache, multidict, frozenlist, dill, aiohappyeyeballs, yarl, multiprocess, aiosignal, aiohttp, datasets, evaluate\n",
      "Successfully installed aiohappyeyeballs-2.6.1 aiohttp-3.12.15 aiosignal-1.4.0 datasets-4.1.0 dill-0.4.0 evaluate-0.4.5 frozenlist-1.7.0 multidict-6.6.4 multiprocess-0.70.16 propcache-0.3.2 pyarrow-21.0.0 xxhash-3.5.0 yarl-1.20.1\n",
      "Note: you may need to restart the kernel to use updated packages.\n"
     ]
    },
    {
     "name": "stderr",
     "output_type": "stream",
     "text": [
      "\n",
      "[notice] A new release of pip is available: 25.0.1 -> 25.2\n",
      "[notice] To update, run: C:\\Users\\Zuzia\\AppData\\Local\\Microsoft\\WindowsApps\\PythonSoftwareFoundation.Python.3.12_qbz5n2kfra8p0\\python.exe -m pip install --upgrade pip\n"
     ]
    },
    {
     "ename": "",
     "evalue": "",
     "output_type": "error",
     "traceback": [
      "\u001b[1;31mThe Kernel crashed while executing code in the current cell or a previous cell. \n",
      "\u001b[1;31mPlease review the code in the cell(s) to identify a possible cause of the failure. \n",
      "\u001b[1;31mClick <a href='https://aka.ms/vscodeJupyterKernelCrash'>here</a> for more info. \n",
      "\u001b[1;31mView Jupyter <a href='command:jupyter.viewOutput'>log</a> for further details."
     ]
    }
   ],
   "source": [
    "# Loading the additional libraries\n",
    "from nltk.translate.bleu_score import sentence_bleu\n",
    "from transformers import pipeline\n",
    "import evaluate\n",
    "\n",
    "# Extracting and passing the first two sentences of the first review\n",
    "first_review = data['Review'][0]\n",
    "first_two_sentences = '.'.join(first_review.split('.')[:2]).strip() + '.'\n",
    "\n",
    "# Loading the English-to-Spanish translation LLM from hugging face\n",
    "model_name_translation = \"Helsinki-NLP/opus-mt-en-es\"\n",
    "translator = pipeline(\"translation_en_to_es\", model = model_name_translation)\n",
    "translated_review = translator(first_two_sentences, clean_up_tokenization_spaces=True)[0]['translation_text']\n",
    "\n",
    "# Evaluating the model with the BLEU SCORE\n",
    "with open(\"reference_translations.txt\", encoding='utf-8') as file:\n",
    "    reference_text = file.read().strip()\n",
    "\n",
    "bleu = evaluate.load(\"bleu\")\n",
    "bleu_score = bleu.compute(predictions=[translated_review], references=[[reference_text]])\n",
    "\n",
    "print(\"BLEU score dictionary:\", bleu_score)\n"
   ]
  },
  {
   "cell_type": "markdown",
   "id": "f86e4a9d",
   "metadata": {},
   "source": [
    "## 3. Q&A LLM - asking a question about a review"
   ]
  },
  {
   "cell_type": "code",
   "execution_count": null,
   "id": "0a11e57b",
   "metadata": {},
   "outputs": [],
   "source": [
    "# Loading the additional libraries\n",
    "from transformers import AutoModelForQuestionAnswering, AutoTokenizer, pipeline\n",
    "\n",
    "model_name_qa = \"deepset/minilm-uncased-squad2\"\n",
    "\n",
    "# Define the question and context (the second review in the dataset)\n",
    "question = \"What did he like about the brand?\"\n",
    "context_second = data['Review'][1]\n",
    "\n",
    "# Loading the model and tokenizer\n",
    "nlp = pipeline('question-answering', model=model_name_qa, tokenizer=model_name_qa)\n",
    "QA_input = {\n",
    "    'question': question,\n",
    "    'context': context_second\n",
    "}\n",
    "\n",
    "answer = nlp(QA_input)\n",
    "print(answer)"
   ]
  },
  {
   "cell_type": "markdown",
   "id": "53b3bdd4",
   "metadata": {},
   "source": [
    "## 4. Summarizing LLM\n",
    "Summarize th elast review from the dataset, between 50-55 tokens."
   ]
  },
  {
   "cell_type": "code",
   "execution_count": null,
   "id": "65bd9409",
   "metadata": {},
   "outputs": [],
   "source": [
    "# Loading the summarization pipeline from hugging face\n",
    "summarizer = pipeline(task=\"summarization\", model= \"facebook/bart-large-cnn\")\n",
    "last_review = data['Review'].iloc[-1]\n",
    "\n",
    "summary_output = summarizer(\n",
    "    last_review,\n",
    "    max_length=55,   \n",
    "    min_length=50\n",
    ")\n",
    "\n",
    "summarized_text = summary_output[0]['summary_text']\n",
    "print(summarized_text)"
   ]
  }
 ],
 "metadata": {
  "kernelspec": {
   "display_name": "Python 3",
   "language": "python",
   "name": "python3"
  },
  "language_info": {
   "codemirror_mode": {
    "name": "ipython",
    "version": 3
   },
   "file_extension": ".py",
   "mimetype": "text/x-python",
   "name": "python",
   "nbconvert_exporter": "python",
   "pygments_lexer": "ipython3",
   "version": "3.12.10"
  }
 },
 "nbformat": 4,
 "nbformat_minor": 5
}
